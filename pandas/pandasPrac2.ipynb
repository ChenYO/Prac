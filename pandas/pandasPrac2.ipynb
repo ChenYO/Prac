{
 "cells": [
  {
   "cell_type": "code",
   "execution_count": 1,
   "metadata": {
    "collapsed": true
   },
   "outputs": [],
   "source": [
    "import pandas as pd"
   ]
  },
  {
   "cell_type": "code",
   "execution_count": 2,
   "metadata": {},
   "outputs": [
    {
     "name": "stdout",
     "output_type": "stream",
     "text": [
      "0     honda\n",
      "1      audi\n",
      "2    toyota\n",
      "dtype: object\n"
     ]
    }
   ],
   "source": [
    "car = ['honda', 'audi', 'toyota']\n",
    "df = pd.Series(car)\n",
    "print(df)"
   ]
  },
  {
   "cell_type": "code",
   "execution_count": 7,
   "metadata": {},
   "outputs": [
    {
     "name": "stdout",
     "output_type": "stream",
     "text": [
      "      Car\n",
      "0   honda\n",
      "1    audi\n",
      "2  toyota\n"
     ]
    }
   ],
   "source": [
    "df2 = pd.DataFrame(car, columns=[\"Car\"])\n",
    "print(df2)"
   ]
  },
  {
   "cell_type": "code",
   "execution_count": 8,
   "metadata": {
    "collapsed": true
   },
   "outputs": [],
   "source": [
    "groups = [\"Movies\", \"Sports\", \"Coding\", \"Fishing\", \"Dancing\", \"cooking\"]  \n",
    "num = [46, 8, 12, 12, 6, 58]\n",
    "\n",
    "dict = {\"groups\": groups,  \n",
    "        \"num\": num\n",
    "        }"
   ]
  },
  {
   "cell_type": "code",
   "execution_count": 9,
   "metadata": {
    "collapsed": true
   },
   "outputs": [],
   "source": [
    "df3 = pd.DataFrame(dict)"
   ]
  },
  {
   "cell_type": "code",
   "execution_count": 10,
   "metadata": {},
   "outputs": [
    {
     "name": "stdout",
     "output_type": "stream",
     "text": [
      "    groups  num\n",
      "0   Movies   46\n",
      "1   Sports    8\n",
      "2   Coding   12\n",
      "3  Fishing   12\n",
      "4  Dancing    6\n",
      "5  cooking   58\n"
     ]
    }
   ],
   "source": [
    "print(df3)"
   ]
  },
  {
   "cell_type": "code",
   "execution_count": 15,
   "metadata": {},
   "outputs": [
    {
     "name": "stdout",
     "output_type": "stream",
     "text": [
      "(6, 2)\n",
      "-------\n",
      "             num\n",
      "count   6.000000\n",
      "mean   23.666667\n",
      "std    22.393451\n",
      "min     6.000000\n",
      "25%     9.000000\n",
      "50%    12.000000\n",
      "75%    37.500000\n",
      "max    58.000000\n",
      "-------\n",
      "   groups  num\n",
      "0  Movies   46\n",
      "1  Sports    8\n",
      "2  Coding   12\n",
      "-------\n",
      "    groups  num\n",
      "3  Fishing   12\n",
      "4  Dancing    6\n",
      "5  cooking   58\n",
      "-------\n",
      "Index(['groups', 'num'], dtype='object')\n",
      "-------\n",
      "<bound method DataFrame.info of     groups  num\n",
      "0   Movies   46\n",
      "1   Sports    8\n",
      "2   Coding   12\n",
      "3  Fishing   12\n",
      "4  Dancing    6\n",
      "5  cooking   58>\n",
      "-------\n",
      "groups    6\n",
      "num       6\n",
      "dtype: int64\n",
      "-------\n",
      "num    23.666667\n",
      "dtype: float64\n"
     ]
    }
   ],
   "source": [
    "print(df3.shape)\n",
    "print(\"-------\")\n",
    "print(df3.describe())\n",
    "print(\"-------\")\n",
    "print(df3.head(3))\n",
    "print(\"-------\")\n",
    "print(df3.tail(3))\n",
    "print(\"-------\")\n",
    "print(df3.columns)\n",
    "print(\"-------\")\n",
    "print(df3.info)\n",
    "print(\"-------\")\n",
    "print(df3.count())\n",
    "print(\"-------\")\n",
    "print(df3.mean())"
   ]
  },
  {
   "cell_type": "code",
   "execution_count": null,
   "metadata": {
    "collapsed": true
   },
   "outputs": [],
   "source": []
  },
  {
   "cell_type": "code",
   "execution_count": null,
   "metadata": {
    "collapsed": true
   },
   "outputs": [],
   "source": []
  }
 ],
 "metadata": {
  "kernelspec": {
   "display_name": "Python 3",
   "language": "python",
   "name": "python3"
  },
  "language_info": {
   "codemirror_mode": {
    "name": "ipython",
    "version": 3
   },
   "file_extension": ".py",
   "mimetype": "text/x-python",
   "name": "python",
   "nbconvert_exporter": "python",
   "pygments_lexer": "ipython3",
   "version": "3.6.1"
  }
 },
 "nbformat": 4,
 "nbformat_minor": 2
}
